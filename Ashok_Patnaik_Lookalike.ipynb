{
 "cells": [
  {
   "cell_type": "code",
   "execution_count": null,
   "id": "9148b45b-502b-413c-83aa-bd26227c3246",
   "metadata": {},
   "outputs": [],
   "source": [
    "!pip install scikit-learn\n",
    "import sklearn\n",
    "print(sklearn.__version__)  \n",
    "from sklearn.metrics.pairwise import cosine_similarity\n",
    "\n",
    "\n",
    "customer_features_normalized = customer_features.drop(columns=['CustomerID'])\n",
    "\n",
    "\n",
    "similarity_matrix = cosine_similarity(customer_features_normalized)\n",
    "\n",
    "\n",
    "similarity_df = pd.DataFrame(similarity_matrix, index=customer_features['CustomerID'], columns=customer_features['CustomerID'])\n",
    "\n",
    "\n",
    "similarity_df.head()\n"
   ]
  },
  {
   "cell_type": "code",
   "execution_count": null,
   "id": "ab951e84-8905-436d-9645-ac0b2d322f0e",
   "metadata": {},
   "outputs": [],
   "source": [
    "def get_top_3_similar_customers(customer_id):\n",
    "    similarity_scores = similarity_df[customer_id]\n",
    "    \n",
    "   \n",
    "    similar_customers = similarity_scores.drop(customer_id).sort_values(ascending=False).head(3)\n",
    "    \n",
    "    \n",
    "    return similar_customers.index.tolist(), similar_customers.values.tolist()\n",
    "\n",
    "\n",
    "top_3_customers, similarity_scores = get_top_3_similar_customers('C0001')\n",
    "\n",
    "\n",
    "print(f\"Top 3 similar customers for C0001: {top_3_customers} with similarity scores: {similarity_scores}\")\n"
   ]
  },
  {
   "cell_type": "code",
   "execution_count": null,
   "id": "ea1a67a7-528d-4fc7-a209-b817ce3f9d50",
   "metadata": {},
   "outputs": [],
   "source": [
    "\n",
    "recommendations = []\n",
    "\n",
    "\n",
    "for customer_id in customer_features['CustomerID']:\n",
    "    similar_customers, similarity_scores = get_top_3_similar_customers(customer_id)\n",
    "    for rec_customer, score in zip(similar_customers, similarity_scores):\n",
    "        recommendations.append([customer_id, rec_customer, score])\n",
    "\n",
    "\n",
    "lookalike_df = pd.DataFrame(recommendations, columns=['CustomerID', 'RecommendedCustomerID', 'SimilarityScore'])\n",
    "\n",
    "\n",
    "lookalike_df.to_csv('Lookalike.csv', index=False)\n",
    "\n",
    "\n",
    "lookalike_df.head()\n"
   ]
  },
  {
   "cell_type": "code",
   "execution_count": null,
   "id": "82423af6-acbe-477c-b8c0-7fd4e2a53bb5",
   "metadata": {},
   "outputs": [],
   "source": [
    "lookalike_df.to_csv('Lookalike.csv', index=False)\n"
   ]
  },
  {
   "cell_type": "code",
   "execution_count": null,
   "id": "1f9b053c-2e94-459a-9fe2-ce53f43a445b",
   "metadata": {},
   "outputs": [],
   "source": [
    "from IPython.display import FileLink\n",
    "\n",
    "\n",
    "FileLink('Lookalike.csv')\n"
   ]
  },
  {
   "cell_type": "code",
   "execution_count": null,
   "id": "768594b8-b2a2-449d-a525-df49fc9c9004",
   "metadata": {},
   "outputs": [],
   "source": [
    "customer_data = pd.merge(transactions, customers, on='CustomerID', how='inner')\n",
    "customer_data.head()\n",
    "\n"
   ]
  },
  {
   "cell_type": "code",
   "execution_count": null,
   "id": "a2020b18-a405-442a-b4d9-0dd085aac1c9",
   "metadata": {},
   "outputs": [],
   "source": [
    "customer_data['TransactionDate'] = pd.to_datetime(customer_data['TransactionDate'])\n",
    "\n",
    "total_spending = customer_data.groupby('CustomerID')['TotalValue'].sum()\n",
    "num_transactions = customer_data.groupby('CustomerID')['TransactionID'].count()\n",
    "avg_transaction_value = customer_data.groupby('CustomerID')['TotalValue'].mean()\n",
    "last_transaction_date = customer_data.groupby('CustomerID')['TransactionDate'].max()\n",
    "recency = (customer_data['TransactionDate'].max() - last_transaction_date).dt.days\n",
    "first_transaction_date = customer_data.groupby('CustomerID')['TransactionDate'].min()\n",
    "frequency = (last_transaction_date - first_transaction_date).dt.days\n",
    "\n",
    "customer_features = pd.DataFrame({\n",
    "    'TotalSpending': total_spending,\n",
    "    'NumTransactions': num_transactions,\n",
    "    'AvgTransactionValue': avg_transaction_value,\n",
    "    'Recency': recency,\n",
    "    'Frequency': frequency\n",
    "})\n",
    "\n",
    "customer_features.head()\n"
   ]
  },
  {
   "cell_type": "code",
   "execution_count": null,
   "id": "fa9fbd5e-d822-4370-abc9-08ad52e54a21",
   "metadata": {},
   "outputs": [],
   "source": []
  },
  {
   "cell_type": "code",
   "execution_count": null,
   "id": "4d2228bf-76fb-44c1-95bf-445a2d4f0cf6",
   "metadata": {},
   "outputs": [],
   "source": []
  }
 ],
 "metadata": {
  "kernelspec": {
   "display_name": "Python 3 (ipykernel)",
   "language": "python",
   "name": "python3"
  },
  "language_info": {
   "codemirror_mode": {
    "name": "ipython",
    "version": 3
   },
   "file_extension": ".py",
   "mimetype": "text/x-python",
   "name": "python",
   "nbconvert_exporter": "python",
   "pygments_lexer": "ipython3",
   "version": "3.12.2"
  }
 },
 "nbformat": 4,
 "nbformat_minor": 5
}
