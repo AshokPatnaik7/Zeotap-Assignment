{
 "cells": [
  {
   "cell_type": "code",
   "execution_count": 1,
   "id": "a42fb98a-bd92-497c-8111-5400a6e76a7d",
   "metadata": {},
   "outputs": [
    {
     "name": "stderr",
     "output_type": "stream",
     "text": [
      "C:\\Users\\vamsi\\AppData\\Local\\Temp\\ipykernel_2068\\2047010819.py:1: DeprecationWarning: \n",
      "Pyarrow will become a required dependency of pandas in the next major release of pandas (pandas 3.0),\n",
      "(to allow more performant data types, such as the Arrow string type, and better interoperability with other libraries)\n",
      "but was not found to be installed on your system.\n",
      "If this would cause problems for you,\n",
      "please provide us feedback at https://github.com/pandas-dev/pandas/issues/54466\n",
      "        \n",
      "  import pandas as pd\n"
     ]
    }
   ],
   "source": [
    "import pandas as pd\n",
    "\n",
    "\n",
    "customers = pd.read_csv(r\"C:\\Users\\vamsi\\Downloads\\Customers.csv\")\n",
    "products = pd.read_csv(r\"C:\\Users\\vamsi\\Downloads\\Products.csv\")\n",
    "transactions = pd.read_csv(r\"C:\\Users\\vamsi\\Downloads\\Transactions.csv\")"
   ]
  },
  {
   "cell_type": "code",
   "execution_count": 2,
   "id": "ac8f7035-6060-45ab-972b-52d7d4623975",
   "metadata": {},
   "outputs": [
    {
     "name": "stdout",
     "output_type": "stream",
     "text": [
      "Customers Dataset:\n",
      "  CustomerID        CustomerName         Region  SignupDate\n",
      "0      C0001    Lawrence Carroll  South America  2022-07-10\n",
      "1      C0002      Elizabeth Lutz           Asia  2022-02-13\n",
      "2      C0003      Michael Rivera  South America  2024-03-07\n",
      "3      C0004  Kathleen Rodriguez  South America  2022-10-09\n",
      "4      C0005         Laura Weber           Asia  2022-08-15\n",
      "\n",
      "Products Dataset:\n",
      "  ProductID              ProductName     Category   Price\n",
      "0      P001     ActiveWear Biography        Books  169.30\n",
      "1      P002    ActiveWear Smartwatch  Electronics  346.30\n",
      "2      P003  ComfortLiving Biography        Books   44.12\n",
      "3      P004            BookWorld Rug   Home Decor   95.69\n",
      "4      P005          TechPro T-Shirt     Clothing  429.31\n",
      "\n",
      "Transactions Dataset:\n",
      "  TransactionID CustomerID ProductID      TransactionDate  Quantity  \\\n",
      "0        T00001      C0199      P067  2024-08-25 12:38:23         1   \n",
      "1        T00112      C0146      P067  2024-05-27 22:23:54         1   \n",
      "2        T00166      C0127      P067  2024-04-25 07:38:55         1   \n",
      "3        T00272      C0087      P067  2024-03-26 22:55:37         2   \n",
      "4        T00363      C0070      P067  2024-03-21 15:10:10         3   \n",
      "\n",
      "   TotalValue   Price  \n",
      "0      300.68  300.68  \n",
      "1      300.68  300.68  \n",
      "2      300.68  300.68  \n",
      "3      601.36  300.68  \n",
      "4      902.04  300.68  \n"
     ]
    }
   ],
   "source": [
    "print(\"Customers Dataset:\")\n",
    "print(customers.head())\n",
    "print(\"\\nProducts Dataset:\")\n",
    "print(products.head())\n",
    "print(\"\\nTransactions Dataset:\")\n",
    "print(transactions.head())"
   ]
  },
  {
   "cell_type": "code",
   "execution_count": 3,
   "id": "3bd7aa6b-7738-4689-a8da-02a05c325792",
   "metadata": {},
   "outputs": [
    {
     "name": "stdout",
     "output_type": "stream",
     "text": [
      "\n",
      "Missing Values:\n",
      "Customers: CustomerID      0\n",
      "CustomerName    0\n",
      "Region          0\n",
      "SignupDate      0\n",
      "dtype: int64\n",
      "Products: ProductID      0\n",
      "ProductName    0\n",
      "Category       0\n",
      "Price          0\n",
      "dtype: int64\n",
      "Transactions: TransactionID      0\n",
      "CustomerID         0\n",
      "ProductID          0\n",
      "TransactionDate    0\n",
      "Quantity           0\n",
      "TotalValue         0\n",
      "Price              0\n",
      "dtype: int64\n"
     ]
    }
   ],
   "source": [
    "print(\"\\nMissing Values:\")\n",
    "print(\"Customers:\", customers.isnull().sum())\n",
    "print(\"Products:\", products.isnull().sum())\n",
    "print(\"Transactions:\", transactions.isnull().sum())"
   ]
  },
  {
   "cell_type": "code",
   "execution_count": 4,
   "id": "df4ebcc6-b337-4659-97fd-8a0eb52e453b",
   "metadata": {},
   "outputs": [
    {
     "name": "stdout",
     "output_type": "stream",
     "text": [
      "\n",
      "Data Types:\n",
      "Customers:\n",
      " CustomerID      object\n",
      "CustomerName    object\n",
      "Region          object\n",
      "SignupDate      object\n",
      "dtype: object\n",
      "Products:\n",
      " ProductID       object\n",
      "ProductName     object\n",
      "Category        object\n",
      "Price          float64\n",
      "dtype: object\n",
      "Transactions:\n",
      " TransactionID       object\n",
      "CustomerID          object\n",
      "ProductID           object\n",
      "TransactionDate     object\n",
      "Quantity             int64\n",
      "TotalValue         float64\n",
      "Price              float64\n",
      "dtype: object\n"
     ]
    }
   ],
   "source": [
    "print(\"\\nData Types:\")\n",
    "print(\"Customers:\\n\", customers.dtypes)\n",
    "print(\"Products:\\n\", products.dtypes)\n",
    "print(\"Transactions:\\n\", transactions.dtypes)"
   ]
  },
  {
   "cell_type": "code",
   "execution_count": 7,
   "id": "f88c7ee9-732f-4aa0-8e78-6cb0240cad61",
   "metadata": {},
   "outputs": [],
   "source": [
    "customers['SignupDate'] = pd.to_datetime(customers['SignupDate'])\n",
    "transactions['TransactionDate'] = pd.to_datetime(transactions['TransactionDate'])\n"
   ]
  },
  {
   "cell_type": "code",
   "execution_count": 8,
   "id": "d07b85fe-efdf-40c8-ab87-61e55a484745",
   "metadata": {},
   "outputs": [
    {
     "name": "stdout",
     "output_type": "stream",
     "text": [
      "\n",
      "Duplicate Rows:\n",
      "Customers: 0\n",
      "Products: 0\n",
      "Transactions: 0\n"
     ]
    }
   ],
   "source": [
    "print(\"\\nDuplicate Rows:\")\n",
    "print(\"Customers:\", customers.duplicated().sum())\n",
    "print(\"Products:\", products.duplicated().sum())\n",
    "print(\"Transactions:\", transactions.duplicated().sum())"
   ]
  },
  {
   "cell_type": "code",
   "execution_count": 9,
   "id": "595e258e-3241-47f4-bd10-ecce7fea9e5b",
   "metadata": {},
   "outputs": [
    {
     "name": "stdout",
     "output_type": "stream",
     "text": [
      "\n",
      "Missing Values After Conversion:\n",
      "Customers: CustomerID      0\n",
      "CustomerName    0\n",
      "Region          0\n",
      "SignupDate      0\n",
      "dtype: int64\n",
      "Products: ProductID      0\n",
      "ProductName    0\n",
      "Category       0\n",
      "Price          0\n",
      "dtype: int64\n",
      "Transactions: TransactionID      0\n",
      "CustomerID         0\n",
      "ProductID          0\n",
      "TransactionDate    0\n",
      "Quantity           0\n",
      "TotalValue         0\n",
      "Price              0\n",
      "dtype: int64\n"
     ]
    }
   ],
   "source": [
    "print(\"\\nMissing Values After Conversion:\")\n",
    "print(\"Customers:\", customers.isnull().sum())\n",
    "print(\"Products:\", products.isnull().sum())\n",
    "print(\"Transactions:\", transactions.isnull().sum())"
   ]
  },
  {
   "cell_type": "code",
   "execution_count": 10,
   "id": "14442688-92cb-4dab-a2c7-f2f298f79b56",
   "metadata": {},
   "outputs": [
    {
     "name": "stdout",
     "output_type": "stream",
     "text": [
      "\n",
      "Customer Distribution by Region:\n",
      "Region\n",
      "South America    59\n",
      "Europe           50\n",
      "North America    46\n",
      "Asia             45\n",
      "Name: count, dtype: int64\n",
      "\n",
      "Signup Trend Over Years:\n",
      "SignupYear\n",
      "2022    64\n",
      "2023    57\n",
      "2024    79\n",
      "Name: count, dtype: int64\n"
     ]
    }
   ],
   "source": [
    "region_distribution = customers['Region'].value_counts()\n",
    "print(\"\\nCustomer Distribution by Region:\")\n",
    "print(region_distribution)\n",
    "\n",
    "\n",
    "customers['SignupYear'] = customers['SignupDate'].dt.year\n",
    "signup_trend = customers['SignupYear'].value_counts().sort_index()\n",
    "print(\"\\nSignup Trend Over Years:\")\n",
    "print(signup_trend)"
   ]
  },
  {
   "cell_type": "code",
   "execution_count": 11,
   "id": "cda05256-1491-4a22-8121-64b9123e0475",
   "metadata": {},
   "outputs": [
    {
     "name": "stdout",
     "output_type": "stream",
     "text": [
      "\n",
      "Product Category Distribution:\n",
      "Category\n",
      "Books          26\n",
      "Electronics    26\n",
      "Clothing       25\n",
      "Home Decor     23\n",
      "Name: count, dtype: int64\n",
      "\n",
      "Product Price Range:\n",
      "count    100.000000\n",
      "mean     267.551700\n",
      "std      143.219383\n",
      "min       16.080000\n",
      "25%      147.767500\n",
      "50%      292.875000\n",
      "75%      397.090000\n",
      "max      497.760000\n",
      "Name: Price, dtype: float64\n"
     ]
    }
   ],
   "source": [
    "category_distribution = products['Category'].value_counts()\n",
    "print(\"\\nProduct Category Distribution:\")\n",
    "print(category_distribution)\n",
    "\n",
    "\n",
    "print(\"\\nProduct Price Range:\")\n",
    "print(products['Price'].describe())"
   ]
  },
  {
   "cell_type": "code",
   "execution_count": 12,
   "id": "c98416c2-8309-4afe-a1ac-5c212fb074ce",
   "metadata": {},
   "outputs": [
    {
     "name": "stdout",
     "output_type": "stream",
     "text": [
      "\n",
      "Sales Trend Over Time:\n",
      "TransactionYearMonth\n",
      "2023-12     3769.52\n",
      "2024-01    66376.39\n",
      "2024-02    51459.27\n",
      "2024-03    47828.73\n",
      "2024-04    57519.06\n",
      "2024-05    64527.74\n",
      "2024-06    48771.18\n",
      "2024-07    71366.39\n",
      "2024-08    63436.74\n",
      "2024-09    70603.75\n",
      "2024-10    47063.22\n",
      "2024-11    38224.37\n",
      "2024-12    59049.20\n",
      "Freq: M, Name: TotalValue, dtype: float64\n",
      "\n",
      "Top 10 Products by Quantity Sold:\n",
      "ProductID\n",
      "P059    46\n",
      "P054    46\n",
      "P029    45\n",
      "P079    43\n",
      "P061    43\n",
      "P057    43\n",
      "P048    43\n",
      "P062    39\n",
      "P020    38\n",
      "P028    38\n",
      "Name: Quantity, dtype: int64\n",
      "\n",
      "Revenue Contribution by Region:\n",
      "Region\n",
      "Asia             152074.97\n",
      "Europe           166254.63\n",
      "North America    152313.40\n",
      "South America    219352.56\n",
      "Name: TotalValue, dtype: float64\n"
     ]
    }
   ],
   "source": [
    "transactions['TransactionYearMonth'] = transactions['TransactionDate'].dt.to_period('M')\n",
    "sales_trend = transactions.groupby('TransactionYearMonth')['TotalValue'].sum()\n",
    "print(\"\\nSales Trend Over Time:\")\n",
    "print(sales_trend)\n",
    "\n",
    "\n",
    "top_products = transactions.groupby('ProductID')['Quantity'].sum().sort_values(ascending=False).head(10)\n",
    "print(\"\\nTop 10 Products by Quantity Sold:\")\n",
    "print(top_products)\n",
    "\n",
    "\n",
    "transactions_merged = transactions.merge(customers, on='CustomerID', how='left')\n",
    "revenue_by_region = transactions_merged.groupby('Region')['TotalValue'].sum()\n",
    "print(\"\\nRevenue Contribution by Region:\")\n",
    "print(revenue_by_region)\n"
   ]
  },
  {
   "cell_type": "code",
   "execution_count": 13,
   "id": "7844da2e-6935-485c-9a69-89d6bae56570",
   "metadata": {},
   "outputs": [
    {
     "data": {
      "text/html": [
       "<div>\n",
       "<style scoped>\n",
       "    .dataframe tbody tr th:only-of-type {\n",
       "        vertical-align: middle;\n",
       "    }\n",
       "\n",
       "    .dataframe tbody tr th {\n",
       "        vertical-align: top;\n",
       "    }\n",
       "\n",
       "    .dataframe thead th {\n",
       "        text-align: right;\n",
       "    }\n",
       "</style>\n",
       "<table border=\"1\" class=\"dataframe\">\n",
       "  <thead>\n",
       "    <tr style=\"text-align: right;\">\n",
       "      <th></th>\n",
       "      <th>TransactionID</th>\n",
       "      <th>CustomerID</th>\n",
       "      <th>ProductID</th>\n",
       "      <th>TransactionDate</th>\n",
       "      <th>Quantity</th>\n",
       "      <th>TotalValue</th>\n",
       "      <th>Price</th>\n",
       "      <th>TransactionYearMonth</th>\n",
       "      <th>CustomerName</th>\n",
       "      <th>Region</th>\n",
       "      <th>SignupDate</th>\n",
       "      <th>SignupYear</th>\n",
       "    </tr>\n",
       "  </thead>\n",
       "  <tbody>\n",
       "    <tr>\n",
       "      <th>0</th>\n",
       "      <td>T00001</td>\n",
       "      <td>C0199</td>\n",
       "      <td>P067</td>\n",
       "      <td>2024-08-25 12:38:23</td>\n",
       "      <td>1</td>\n",
       "      <td>300.68</td>\n",
       "      <td>300.68</td>\n",
       "      <td>2024-08</td>\n",
       "      <td>Andrea Jenkins</td>\n",
       "      <td>Europe</td>\n",
       "      <td>2022-12-03</td>\n",
       "      <td>2022</td>\n",
       "    </tr>\n",
       "    <tr>\n",
       "      <th>1</th>\n",
       "      <td>T00112</td>\n",
       "      <td>C0146</td>\n",
       "      <td>P067</td>\n",
       "      <td>2024-05-27 22:23:54</td>\n",
       "      <td>1</td>\n",
       "      <td>300.68</td>\n",
       "      <td>300.68</td>\n",
       "      <td>2024-05</td>\n",
       "      <td>Brittany Harvey</td>\n",
       "      <td>Asia</td>\n",
       "      <td>2024-09-04</td>\n",
       "      <td>2024</td>\n",
       "    </tr>\n",
       "    <tr>\n",
       "      <th>2</th>\n",
       "      <td>T00166</td>\n",
       "      <td>C0127</td>\n",
       "      <td>P067</td>\n",
       "      <td>2024-04-25 07:38:55</td>\n",
       "      <td>1</td>\n",
       "      <td>300.68</td>\n",
       "      <td>300.68</td>\n",
       "      <td>2024-04</td>\n",
       "      <td>Kathryn Stevens</td>\n",
       "      <td>Europe</td>\n",
       "      <td>2024-04-04</td>\n",
       "      <td>2024</td>\n",
       "    </tr>\n",
       "    <tr>\n",
       "      <th>3</th>\n",
       "      <td>T00272</td>\n",
       "      <td>C0087</td>\n",
       "      <td>P067</td>\n",
       "      <td>2024-03-26 22:55:37</td>\n",
       "      <td>2</td>\n",
       "      <td>601.36</td>\n",
       "      <td>300.68</td>\n",
       "      <td>2024-03</td>\n",
       "      <td>Travis Campbell</td>\n",
       "      <td>South America</td>\n",
       "      <td>2024-04-11</td>\n",
       "      <td>2024</td>\n",
       "    </tr>\n",
       "    <tr>\n",
       "      <th>4</th>\n",
       "      <td>T00363</td>\n",
       "      <td>C0070</td>\n",
       "      <td>P067</td>\n",
       "      <td>2024-03-21 15:10:10</td>\n",
       "      <td>3</td>\n",
       "      <td>902.04</td>\n",
       "      <td>300.68</td>\n",
       "      <td>2024-03</td>\n",
       "      <td>Timothy Perez</td>\n",
       "      <td>Europe</td>\n",
       "      <td>2022-03-15</td>\n",
       "      <td>2022</td>\n",
       "    </tr>\n",
       "  </tbody>\n",
       "</table>\n",
       "</div>"
      ],
      "text/plain": [
       "  TransactionID CustomerID ProductID     TransactionDate  Quantity  \\\n",
       "0        T00001      C0199      P067 2024-08-25 12:38:23         1   \n",
       "1        T00112      C0146      P067 2024-05-27 22:23:54         1   \n",
       "2        T00166      C0127      P067 2024-04-25 07:38:55         1   \n",
       "3        T00272      C0087      P067 2024-03-26 22:55:37         2   \n",
       "4        T00363      C0070      P067 2024-03-21 15:10:10         3   \n",
       "\n",
       "   TotalValue   Price TransactionYearMonth     CustomerName         Region  \\\n",
       "0      300.68  300.68              2024-08   Andrea Jenkins         Europe   \n",
       "1      300.68  300.68              2024-05  Brittany Harvey           Asia   \n",
       "2      300.68  300.68              2024-04  Kathryn Stevens         Europe   \n",
       "3      601.36  300.68              2024-03  Travis Campbell  South America   \n",
       "4      902.04  300.68              2024-03    Timothy Perez         Europe   \n",
       "\n",
       "  SignupDate  SignupYear  \n",
       "0 2022-12-03        2022  \n",
       "1 2024-09-04        2024  \n",
       "2 2024-04-04        2024  \n",
       "3 2024-04-11        2024  \n",
       "4 2022-03-15        2022  "
      ]
     },
     "execution_count": 13,
     "metadata": {},
     "output_type": "execute_result"
    }
   ],
   "source": [
    "merged_data = pd.merge(transactions, customers, on='CustomerID', how='inner')\n",
    "\n",
    "\n",
    "merged_data.head()\n"
   ]
  },
  {
   "cell_type": "code",
   "execution_count": 14,
   "id": "0410e311-1ec4-4060-bec4-abdbc5a6722b",
   "metadata": {},
   "outputs": [
    {
     "data": {
      "text/html": [
       "<div>\n",
       "<style scoped>\n",
       "    .dataframe tbody tr th:only-of-type {\n",
       "        vertical-align: middle;\n",
       "    }\n",
       "\n",
       "    .dataframe tbody tr th {\n",
       "        vertical-align: top;\n",
       "    }\n",
       "\n",
       "    .dataframe thead th {\n",
       "        text-align: right;\n",
       "    }\n",
       "</style>\n",
       "<table border=\"1\" class=\"dataframe\">\n",
       "  <thead>\n",
       "    <tr style=\"text-align: right;\">\n",
       "      <th></th>\n",
       "      <th>CustomerID</th>\n",
       "      <th>TotalValue_x</th>\n",
       "      <th>TotalValue_y</th>\n",
       "      <th>Quantity</th>\n",
       "    </tr>\n",
       "  </thead>\n",
       "  <tbody>\n",
       "    <tr>\n",
       "      <th>0</th>\n",
       "      <td>C0001</td>\n",
       "      <td>3354.52</td>\n",
       "      <td>670.904</td>\n",
       "      <td>12</td>\n",
       "    </tr>\n",
       "    <tr>\n",
       "      <th>1</th>\n",
       "      <td>C0002</td>\n",
       "      <td>1862.74</td>\n",
       "      <td>465.685</td>\n",
       "      <td>10</td>\n",
       "    </tr>\n",
       "    <tr>\n",
       "      <th>2</th>\n",
       "      <td>C0003</td>\n",
       "      <td>2725.38</td>\n",
       "      <td>681.345</td>\n",
       "      <td>14</td>\n",
       "    </tr>\n",
       "    <tr>\n",
       "      <th>3</th>\n",
       "      <td>C0004</td>\n",
       "      <td>5354.88</td>\n",
       "      <td>669.360</td>\n",
       "      <td>23</td>\n",
       "    </tr>\n",
       "    <tr>\n",
       "      <th>4</th>\n",
       "      <td>C0005</td>\n",
       "      <td>2034.24</td>\n",
       "      <td>678.080</td>\n",
       "      <td>7</td>\n",
       "    </tr>\n",
       "  </tbody>\n",
       "</table>\n",
       "</div>"
      ],
      "text/plain": [
       "  CustomerID  TotalValue_x  TotalValue_y  Quantity\n",
       "0      C0001       3354.52       670.904        12\n",
       "1      C0002       1862.74       465.685        10\n",
       "2      C0003       2725.38       681.345        14\n",
       "3      C0004       5354.88       669.360        23\n",
       "4      C0005       2034.24       678.080         7"
      ]
     },
     "execution_count": 14,
     "metadata": {},
     "output_type": "execute_result"
    }
   ],
   "source": [
    "customer_spending = merged_data.groupby('CustomerID')['TotalValue'].sum().reset_index()\n",
    "avg_transaction_value = merged_data.groupby('CustomerID')['TotalValue'].mean().reset_index()\n",
    "product_preferences = merged_data.groupby(['CustomerID', 'ProductID'])['Quantity'].sum().reset_index()\n",
    "customer_features = pd.merge(customer_spending, avg_transaction_value, on='CustomerID', how='inner')\n",
    "customer_features = pd.merge(customer_features, product_preferences.groupby('CustomerID')['Quantity'].sum().reset_index(), on='CustomerID', how='inner')\n",
    "\n",
    "\n",
    "customer_features.head()\n"
   ]
  },
  {
   "cell_type": "code",
   "execution_count": null,
   "id": "74bc4b74-41f8-4070-8f5d-10d5477271d9",
   "metadata": {},
   "outputs": [],
   "source": []
  }
 ],
 "metadata": {
  "kernelspec": {
   "display_name": "Python 3 (ipykernel)",
   "language": "python",
   "name": "python3"
  },
  "language_info": {
   "codemirror_mode": {
    "name": "ipython",
    "version": 3
   },
   "file_extension": ".py",
   "mimetype": "text/x-python",
   "name": "python",
   "nbconvert_exporter": "python",
   "pygments_lexer": "ipython3",
   "version": "3.12.2"
  }
 },
 "nbformat": 4,
 "nbformat_minor": 5
}
